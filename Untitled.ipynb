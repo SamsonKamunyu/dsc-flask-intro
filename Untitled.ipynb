{
 "cells": [
  {
   "cell_type": "code",
   "execution_count": 10,
   "metadata": {},
   "outputs": [],
   "source": [
    "# import flask here\n",
    "from flask import Flask\n",
    "\n",
    "# create new flask app here\n",
    "app = Flask(__name__)\n",
    "\n",
    "# define routes for your new flask app\n",
    "@app.route('/', methods=['GET'])\n",
    "def index():\n",
    "    return 'Hello, world!'"
   ]
  },
  {
   "cell_type": "code",
   "execution_count": 11,
   "metadata": {},
   "outputs": [],
   "source": [
    "from flask import Flask"
   ]
  },
  {
   "cell_type": "code",
   "execution_count": 12,
   "metadata": {},
   "outputs": [],
   "source": [
    "#Instantiating Flask module\n",
    "app = Flask(__name__)"
   ]
  },
  {
   "cell_type": "code",
   "execution_count": 13,
   "metadata": {},
   "outputs": [],
   "source": [
    "#Defining a route for the new flask app\n",
    "@app.route('/', methods = ['GET'])\n",
    "def index():\n",
    "    return 'Hello, world!'"
   ]
  },
  {
   "cell_type": "code",
   "execution_count": 14,
   "metadata": {},
   "outputs": [],
   "source": [
    "#Defining a route for the second flask app\n",
    "@app.route('/', methods = ['GET'])\n",
    "def welcome():\n",
    "    return 'Welcome to an amazing Flask App!'"
   ]
  },
  {
   "cell_type": "code",
   "execution_count": 15,
   "metadata": {},
   "outputs": [],
   "source": [
    "#Defining a route for the third flask app\n",
    "@app.route('/', methods = ['GET'])\n",
    "def goodbye():\n",
    "    return 'Welcome to an amazing Flask App!'"
   ]
  },
  {
   "cell_type": "code",
   "execution_count": 16,
   "metadata": {},
   "outputs": [],
   "source": [
    "# Flask is the overall web framework\n",
    "from flask import Flask, request\n",
    "# joblib is used to unpickle the model\n",
    "import joblib\n",
    "# json is used to prepare the result\n",
    "import json"
   ]
  },
  {
   "cell_type": "code",
   "execution_count": 17,
   "metadata": {},
   "outputs": [],
   "source": [
    "# create new flask app here\n",
    "app = Flask(__name__)"
   ]
  },
  {
   "cell_type": "code",
   "execution_count": 18,
   "metadata": {},
   "outputs": [],
   "source": [
    "def iris_prediction(sepal_length, sepal_width, petal_length, petal_width):\n",
    "    \"\"\"\n",
    "    Given sepal length, sepal width, petal length, and petal width,\n",
    "    predict the class of iris\n",
    "    \"\"\"\n",
    "\n",
    "    # Load the model from the file\n",
    "    with open(\"model.pkl\", \"rb\") as f:\n",
    "        model = joblib.load(f)\n",
    "\n",
    "    # Construct the 2D matrix of values that .predict is expecting\n",
    "    X = [[sepal_length, sepal_width, petal_length, petal_width]]\n",
    "\n",
    "    # Get a list of predictions and select only 1st\n",
    "    predictions = model.predict(X)\n",
    "    prediction = int(predictions[0])\n",
    "\n",
    "    return {\"predicted_class\": prediction}"
   ]
  },
  {
   "cell_type": "code",
   "execution_count": 19,
   "metadata": {},
   "outputs": [],
   "source": [
    "@app.route('/', methods=['GET'])\n",
    "def index():\n",
    "    return 'Hello, world!'\n",
    "\n",
    "@app.route('/predict', methods=['POST'])\n",
    "def predict():\n",
    "    # Get the request data from the user in JSON format\n",
    "    request_json = request.get_json()\n",
    "\n",
    "    # We are expecting the request to look like this:\n",
    "    # {\"sepal_length\": <x1>, \"sepal_width\": <x2>, \"petal_length\": <x3>, \"petal_width\": <x4>}\n",
    "    # Send it to our prediction function using ** to unpack the arguments\n",
    "    result = iris_prediction(**request_json)\n",
    "\n",
    "    # Return the result as a string with JSON format\n",
    "    return json.dumps(result)"
   ]
  },
  {
   "cell_type": "code",
   "execution_count": 20,
   "metadata": {},
   "outputs": [],
   "source": [
    "# Flask is the overall web framework\n",
    "from flask import Flask, request\n",
    "# joblib is used to unpickle the model\n",
    "import joblib\n",
    "# json is used to prepare the result\n",
    "import json\n",
    "\n",
    "# create new flask app here\n",
    "app = Flask(__name__)\n",
    "\n",
    "# helper function here\n",
    "\n",
    "def iris_prediction(sepal_length, sepal_width, petal_length, petal_width):\n",
    "    \"\"\"\n",
    "    Given sepal length, sepal width, petal length, and petal width,\n",
    "    predict the class of iris\n",
    "    \"\"\"\n",
    "\n",
    "    # Load the model from the file\n",
    "    with open(\"model.pkl\", \"rb\") as f:\n",
    "        model = joblib.load(f)\n",
    "\n",
    "    # Construct the 2D matrix of values that .predict is expecting\n",
    "    X = [[sepal_length, sepal_width, petal_length, petal_width]]\n",
    "\n",
    "    # Get a list of predictions and select only 1st\n",
    "    predictions = model.predict(X)\n",
    "    prediction = int(predictions[0])\n",
    "\n",
    "    return {\"predicted_class\": prediction}\n",
    "\n",
    "# defining routes here\n",
    "\n",
    "@app.route('/', methods=['GET'])\n",
    "def index():\n",
    "    return 'Hello, world!'\n",
    "\n",
    "@app.route('/predict', methods=['POST'])\n",
    "def predict():\n",
    "    # Get the request data from the user in JSON format\n",
    "    request_json = request.get_json()\n",
    "\n",
    "    # We are expecting the request to look like this:\n",
    "    # {\"sepal_length\": <x1>, \"sepal_width\": <x2>, \"petal_length\": <x3>, \"petal_width\": <x4>}\n",
    "    # Send it to our prediction function using ** to unpack the arguments\n",
    "    result = iris_prediction(**request_json)\n",
    "\n",
    "    # Return the result as a string with JSON format\n",
    "    return json.dumps(result)"
   ]
  },
  {
   "cell_type": "code",
   "execution_count": 21,
   "metadata": {},
   "outputs": [],
   "source": [
    "import requests"
   ]
  },
  {
   "cell_type": "code",
   "execution_count": 22,
   "metadata": {},
   "outputs": [
    {
     "data": {
      "text/plain": [
       "<Response [200]>"
      ]
     },
     "execution_count": 22,
     "metadata": {},
     "output_type": "execute_result"
    }
   ],
   "source": [
    "response = requests.post(\n",
    "    url=\"http://127.0.0.1:5000/predict\",\n",
    "    json={\"sepal_length\": 5.1, \"sepal_width\": 3.5, \"petal_length\": 1.4, \"petal_width\": 0.2}\n",
    ")\n",
    "response"
   ]
  },
  {
   "cell_type": "code",
   "execution_count": 26,
   "metadata": {},
   "outputs": [
    {
     "data": {
      "text/plain": [
       "{'predicted_class': 0}"
      ]
     },
     "execution_count": 26,
     "metadata": {},
     "output_type": "execute_result"
    }
   ],
   "source": [
    "response.json()"
   ]
  },
  {
   "cell_type": "code",
   "execution_count": null,
   "metadata": {},
   "outputs": [],
   "source": []
  }
 ],
 "metadata": {
  "kernelspec": {
   "display_name": "Python 3 (ipykernel)",
   "language": "python",
   "name": "python3"
  },
  "language_info": {
   "codemirror_mode": {
    "name": "ipython",
    "version": 3
   },
   "file_extension": ".py",
   "mimetype": "text/x-python",
   "name": "python",
   "nbconvert_exporter": "python",
   "pygments_lexer": "ipython3",
   "version": "3.9.12"
  }
 },
 "nbformat": 4,
 "nbformat_minor": 4
}
